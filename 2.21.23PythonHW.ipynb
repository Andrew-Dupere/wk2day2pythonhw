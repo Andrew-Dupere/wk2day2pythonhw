{
 "cells": [
  {
   "cell_type": "markdown",
   "id": "e18b25fd",
   "metadata": {},
   "source": [
    "Create a list of numbers that are less than ten using l_1 and list comprehension\n",
    "\n",
    "\n",
    "Your output should [1,5,8,9]"
   ]
  },
  {
   "cell_type": "code",
   "execution_count": 1,
   "id": "ccaef8dd",
   "metadata": {},
   "outputs": [
    {
     "name": "stdout",
     "output_type": "stream",
     "text": [
      "[1, 5, 8, 9]\n",
      "[1, 5, 8, 9]\n"
     ]
    }
   ],
   "source": [
    "# Use the following list - [1,11,14,5,8,9]\n",
    "\n",
    "l_1 = [1,11,14,5,8,9]\n",
    "\n",
    "newNumList = []\n",
    "\n",
    "for item in l_1:\n",
    "    if item < 10:\n",
    "        newNumList.append(item)\n",
    "print(newNumList)\n",
    "\n",
    "\n",
    "\n",
    "newlistComp = [i for i in l_1 if i <10]\n",
    "\n",
    "print(newlistComp)"
   ]
  },
  {
   "cell_type": "markdown",
   "id": "431b7031",
   "metadata": {},
   "source": [
    "Using list comprehension, create a list of names of 4 letters or more and capitalize each name"
   ]
  },
  {
   "cell_type": "code",
   "execution_count": 19,
   "id": "10c16c30",
   "metadata": {},
   "outputs": [
    {
     "name": "stdout",
     "output_type": "stream",
     "text": [
      "['CONNOR', 'CONNOR', 'CONNOR', 'EVAN', 'EVAN', 'KEVIN']\n",
      "['CONNOR', 'CONNOR', 'CONNOR', 'EVAN', 'EVAN', 'KEVIN']\n"
     ]
    }
   ],
   "source": [
    "names1 = ['connor', 'connor', 'bob', 'connor', 'evan', 'max', 'evan', 'bob', 'kevin']\n",
    "\n",
    "# Bonus Challenge\n",
    "names2 = ['connor', 'connor', 'bob', 'connor', 'evan', 'max', 'evan', 2, 2, 2, 3, 3, 4, 'bob', 'kevin']\n",
    "\n",
    "\n",
    "newNames1 = [name.upper() for name in names1 if len(name) >3]\n",
    "\n",
    "print(newNames1)\n",
    "\n",
    "newNames2 = []\n",
    "\n",
    "for name in names2:\n",
    "    try:\n",
    "        if len(name) > 3:\n",
    "            newNames2.append(name.upper())\n",
    "    except:\n",
    "        continue\n",
    "print(newNames2)\n",
    "\n",
    "\n"
   ]
  },
  {
   "cell_type": "code",
   "execution_count": null,
   "id": "2f739284",
   "metadata": {},
   "outputs": [],
   "source": []
  }
 ],
 "metadata": {
  "kernelspec": {
   "display_name": "Python 3 (ipykernel)",
   "language": "python",
   "name": "python3"
  },
  "language_info": {
   "codemirror_mode": {
    "name": "ipython",
    "version": 3
   },
   "file_extension": ".py",
   "mimetype": "text/x-python",
   "name": "python",
   "nbconvert_exporter": "python",
   "pygments_lexer": "ipython3",
   "version": "3.9.13"
  }
 },
 "nbformat": 4,
 "nbformat_minor": 5
}
